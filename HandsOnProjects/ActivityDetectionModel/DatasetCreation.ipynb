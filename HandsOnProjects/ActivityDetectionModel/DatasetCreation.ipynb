{
 "cells": [
  {
   "cell_type": "markdown",
   "metadata": {},
   "source": [
    "# Dataset Creation for Video Classifier : "
   ]
  },
  {
   "cell_type": "code",
   "execution_count": 1,
   "metadata": {},
   "outputs": [],
   "source": [
    "import numpy as np\n",
    "import pandas as pd\n",
    "import matplotlib.pyplot as plt\n",
    "import os"
   ]
  },
  {
   "cell_type": "markdown",
   "metadata": {},
   "source": [
    "### Connect Dataset : "
   ]
  },
  {
   "cell_type": "code",
   "execution_count": 4,
   "metadata": {},
   "outputs": [
    {
     "name": "stdout",
     "output_type": "stream",
     "text": [
      "Present labels : \n",
      "['arrest', 'arson', 'roadaccidents']\n"
     ]
    }
   ],
   "source": [
    "dataset = os.listdir(\"data\")\n",
    "label_types = os.listdir(\"data\")\n",
    "print(\"Present labels : \")\n",
    "print(label_types)"
   ]
  },
  {
   "cell_type": "markdown",
   "metadata": {},
   "source": [
    "### Train and Test Dataset Slpit : "
   ]
  },
  {
   "cell_type": "code",
   "execution_count": 9,
   "metadata": {},
   "outputs": [
    {
     "name": "stdout",
     "output_type": "stream",
     "text": [
      "             label                                    video_name\n",
      "0           arrest                data/arrest/Arrest001_x264.mp4\n",
      "1           arrest                data/arrest/Arrest002_x264.mp4\n",
      "2           arrest                data/arrest/Arrest003_x264.mp4\n",
      "3           arrest                data/arrest/Arrest004_x264.mp4\n",
      "4           arrest                data/arrest/Arrest005_x264.mp4\n",
      "..             ...                                           ...\n",
      "185  roadaccidents  data/roadaccidents/RoadAccidents087_x264.mp4\n",
      "186  roadaccidents  data/roadaccidents/RoadAccidents088_x264.mp4\n",
      "187  roadaccidents  data/roadaccidents/RoadAccidents089_x264.mp4\n",
      "188  roadaccidents  data/roadaccidents/RoadAccidents090_x264.mp4\n",
      "189  roadaccidents  data/roadaccidents/RoadAccidents091_x264.mp4\n",
      "\n",
      "[190 rows x 2 columns]\n"
     ]
    }
   ],
   "source": [
    "data = []\n",
    "\n",
    "for i in range(len(label_types)):\n",
    "    for video in os.listdir(\"data/\"+label_types[i]):\n",
    "        data.append((label_types[i], str(\"data/\" + label_types[i] + \"/\" + video) ))\n",
    "\n",
    "df = pd.DataFrame(data=data, columns=['label', 'video_name'])\n",
    "\n",
    "print(df)"
   ]
  },
  {
   "cell_type": "code",
   "execution_count": 42,
   "metadata": {},
   "outputs": [],
   "source": [
    "x = df['video_name']\n",
    "y = df['label']"
   ]
  },
  {
   "cell_type": "code",
   "execution_count": 5,
   "metadata": {},
   "outputs": [],
   "source": [
    "from sklearn.model_selection import train_test_split"
   ]
  },
  {
   "cell_type": "code",
   "execution_count": 44,
   "metadata": {},
   "outputs": [],
   "source": [
    "    # stratify = y  -> maintains ratio 8:2 for each class of data\n",
    "    train, test = train_test_split(df, test_size = 0.2, stratify=y)"
   ]
  },
  {
   "cell_type": "code",
   "execution_count": 46,
   "metadata": {},
   "outputs": [
    {
     "data": {
      "text/plain": [
       "label\n",
       "roadaccidents    72\n",
       "arrest           40\n",
       "arson            40\n",
       "dtype: int64"
      ]
     },
     "execution_count": 46,
     "metadata": {},
     "output_type": "execute_result"
    }
   ],
   "source": [
    "train.value_counts('label')"
   ]
  },
  {
   "cell_type": "code",
   "execution_count": 45,
   "metadata": {},
   "outputs": [
    {
     "data": {
      "text/plain": [
       "label\n",
       "roadaccidents    18\n",
       "arrest           10\n",
       "arson            10\n",
       "dtype: int64"
      ]
     },
     "execution_count": 45,
     "metadata": {},
     "output_type": "execute_result"
    }
   ],
   "source": [
    "test.value_counts('label')"
   ]
  },
  {
   "cell_type": "markdown",
   "metadata": {},
   "source": [
    "Now, training and testing data is successfully divided in 8:2 ratio across the three classes."
   ]
  },
  {
   "cell_type": "code",
   "execution_count": 38,
   "metadata": {},
   "outputs": [],
   "source": [
    "train.to_csv(\"data/train.csv\")\n",
    "test.to_csv(\"data/test.csv\")"
   ]
  },
  {
   "cell_type": "markdown",
   "metadata": {},
   "source": []
  }
 ],
 "metadata": {
  "kernelspec": {
   "display_name": "Python 3.9.12 ('base')",
   "language": "python",
   "name": "python3"
  },
  "language_info": {
   "codemirror_mode": {
    "name": "ipython",
    "version": 3
   },
   "file_extension": ".py",
   "mimetype": "text/x-python",
   "name": "python",
   "nbconvert_exporter": "python",
   "pygments_lexer": "ipython3",
   "version": "3.9.12"
  },
  "orig_nbformat": 4,
  "vscode": {
   "interpreter": {
    "hash": "f7ca485dd47a7e447dc879f24f2c848e07bf0bdc718f572827360b024046a443"
   }
  }
 },
 "nbformat": 4,
 "nbformat_minor": 2
}
