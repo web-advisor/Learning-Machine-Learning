{
 "cells": [
  {
   "cell_type": "code",
   "execution_count": 1,
   "metadata": {},
   "outputs": [],
   "source": [
    "import numpy as np\n",
    "from sklearn.linear_model import LinearRegression"
   ]
  },
  {
   "cell_type": "code",
   "execution_count": 2,
   "metadata": {},
   "outputs": [],
   "source": [
    "# we are providing training data -> here we provide output_y for sample input_x so that the model can decide on a Linear regresion\n",
    "input_feature_x = np.array([4, 12, 16, 20, 24, 36, 40]).reshape(-1, 1)\n",
    "output_y = np.array([4, 17, 10, 18, 22, 38, 33])"
   ]
  },
  {
   "cell_type": "code",
   "execution_count": 3,
   "metadata": {},
   "outputs": [
    {
     "data": {
      "text/plain": [
       "LinearRegression()"
      ]
     },
     "execution_count": 3,
     "metadata": {},
     "output_type": "execute_result"
    }
   ],
   "source": [
    "my_first_linear_model = LinearRegression()\n",
    "my_first_linear_model.fit(input_feature_x, output_y)"
   ]
  },
  {
   "cell_type": "code",
   "execution_count": 4,
   "metadata": {},
   "outputs": [
    {
     "data": {
      "text/plain": [
       "array([0.88368056])"
      ]
     },
     "execution_count": 4,
     "metadata": {},
     "output_type": "execute_result"
    }
   ],
   "source": [
    "# the slope of the LinearRegression model best suited for provided input (m)\n",
    "my_first_linear_model.coef_"
   ]
  },
  {
   "cell_type": "code",
   "execution_count": 5,
   "metadata": {},
   "outputs": [
    {
     "data": {
      "text/plain": [
       "1.097222222222225"
      ]
     },
     "execution_count": 5,
     "metadata": {},
     "output_type": "execute_result"
    }
   ],
   "source": [
    "# the intercept of the LinearRegression function on the x axis (c)\n",
    "my_first_linear_model.intercept_"
   ]
  },
  {
   "cell_type": "code",
   "execution_count": 6,
   "metadata": {},
   "outputs": [
    {
     "data": {
      "text/plain": [
       "array([12.58506944, 15.23611111, 31.14236111, -9.50694444])"
      ]
     },
     "execution_count": 6,
     "metadata": {},
     "output_type": "execute_result"
    }
   ],
   "source": [
    "# equation of LinearRegression thus formed is  : y = mx + c\n",
    "# y = (0.88368056)x + 1.0972222222225\n",
    "\n",
    "# Now we will predict the Outputs for some inputs using Linear Regression : \n",
    "prediction_array = np.array([13, 16, 34, -12]).reshape(-1, 1)\n",
    "my_first_linear_model.predict(prediction_array)"
   ]
  }
 ],
 "metadata": {
  "kernelspec": {
   "display_name": "Python 3.9.12 ('base')",
   "language": "python",
   "name": "python3"
  },
  "language_info": {
   "codemirror_mode": {
    "name": "ipython",
    "version": 3
   },
   "file_extension": ".py",
   "mimetype": "text/x-python",
   "name": "python",
   "nbconvert_exporter": "python",
   "pygments_lexer": "ipython3",
   "version": "3.9.12"
  },
  "orig_nbformat": 4,
  "vscode": {
   "interpreter": {
    "hash": "f7ca485dd47a7e447dc879f24f2c848e07bf0bdc718f572827360b024046a443"
   }
  }
 },
 "nbformat": 4,
 "nbformat_minor": 2
}
